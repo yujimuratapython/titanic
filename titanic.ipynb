{
 "cells": [
  {
   "cell_type": "code",
   "execution_count": null,
   "source": [
    "!pip install pycaret==2.3.1"
   ],
   "outputs": [],
   "metadata": {
    "id": "SWdUoVOzhUst"
   }
  },
  {
   "cell_type": "code",
   "execution_count": null,
   "source": [
    "from pycaret.utils import enable_colab\r\n",
    "\r\n",
    "enable_colab()"
   ],
   "outputs": [],
   "metadata": {
    "id": "KaJjoErYGyXc"
   }
  },
  {
   "cell_type": "code",
   "execution_count": null,
   "source": [
    "import numpy as np\r\n",
    "import pandas as pd\r\n",
    "\r\n",
    "train_data = pd.read_csv(\"train.csv\")  # 訓練データ\r\n",
    "test_data = pd.read_csv(\"test.csv\") # テストデータ\r\n",
    "\r\n",
    "train_data.head()"
   ],
   "outputs": [],
   "metadata": {
    "execution": {
     "iopub.execute_input": "2021-06-07T06:24:30.674071Z",
     "iopub.status.busy": "2021-06-07T06:24:30.673433Z",
     "iopub.status.idle": "2021-06-07T06:24:30.743367Z",
     "shell.execute_reply": "2021-06-07T06:24:30.741854Z",
     "shell.execute_reply.started": "2021-06-07T06:24:30.674016Z"
    },
    "id": "HhBVtZ25Om0i"
   }
  },
  {
   "cell_type": "code",
   "execution_count": null,
   "source": [
    "from pycaret.classification import setup\r\n",
    "\r\n",
    "#数値データの欠損には平均値、カテゴリデータの欠損には最頻値\r\n",
    "clf = setup(data=train_data, target=\"Survived\", session_id=123,  # 環境の初期化\r\n",
    "            numeric_imputation=\"mean\", categorical_imputation=\"mode\")"
   ],
   "outputs": [],
   "metadata": {
    "id": "-O9MinyDnHpB"
   }
  },
  {
   "cell_type": "code",
   "execution_count": null,
   "source": [
    "from pycaret.classification import compare_models\r\n",
    "\r\n",
    "best_model = compare_models()"
   ],
   "outputs": [],
   "metadata": {
    "id": "k9jV5GnCqRRG"
   }
  },
  {
   "cell_type": "code",
   "execution_count": null,
   "source": [
    "print(best_model)"
   ],
   "outputs": [],
   "metadata": {
    "id": "pZunyfB_rPHb"
   }
  },
  {
   "cell_type": "code",
   "execution_count": null,
   "source": [
    "from pycaret.classification import models\r\n",
    "\r\n",
    "models()"
   ],
   "outputs": [],
   "metadata": {
    "id": "0aDJmjKdugo-"
   }
  },
  {
   "cell_type": "code",
   "execution_count": null,
   "source": [
    "from pycaret.classification import create_model\r\n",
    "\r\n",
    "gbc = create_model(\"gbc\")  # 勾配ブースティングのモデルを作成"
   ],
   "outputs": [],
   "metadata": {
    "id": "k8MIUL7Trf9h"
   }
  },
  {
   "cell_type": "code",
   "execution_count": null,
   "source": [
    "print(gbc)"
   ],
   "outputs": [],
   "metadata": {
    "id": "zAZau_D8uEMA"
   }
  },
  {
   "cell_type": "code",
   "execution_count": null,
   "source": [
    "!pip install pycaret==2.3.1"
   ],
   "outputs": [],
   "metadata": {
    "id": "kRyIUO6Yvc-B"
   }
  },
  {
   "cell_type": "code",
   "execution_count": null,
   "source": [
    "import numpy as np\r\n",
    "import pandas as pd\r\n",
    "\r\n",
    "train_data = pd.read_csv(\"train.csv\")\r\n",
    "test_data = pd.read_csv(\"test.csv\")\r\n",
    "\r\n",
    "train_data.head()"
   ],
   "outputs": [],
   "metadata": {
    "id": "q_k-T1HCvn2s"
   }
  },
  {
   "cell_type": "code",
   "execution_count": null,
   "source": [
    "from pycaret.classification import setup\r\n",
    "\r\n",
    "clf = setup(data=train_data, target=\"Survived\", session_id=123, numeric_imputation=\"mean\", categorical_imputation=\"mode\")"
   ],
   "outputs": [],
   "metadata": {
    "id": "9p_3L4cbvvzt"
   }
  },
  {
   "cell_type": "code",
   "execution_count": null,
   "source": [
    "from pycaret.classification import compare_models\r\n",
    "\r\n",
    "best_model = compare_models()"
   ],
   "outputs": [],
   "metadata": {
    "id": "Sp9EIYA9yrHg"
   }
  },
  {
   "cell_type": "code",
   "execution_count": null,
   "source": [
    "print(best_model)"
   ],
   "outputs": [],
   "metadata": {
    "id": "ATaqIJbB9PMN"
   }
  },
  {
   "cell_type": "code",
   "execution_count": null,
   "source": [
    "from pycaret.classification import models\r\n",
    "\r\n",
    "models()"
   ],
   "outputs": [],
   "metadata": {
    "execution": {
     "iopub.execute_input": "2021-06-07T06:24:32.633315Z",
     "iopub.status.busy": "2021-06-07T06:24:32.632682Z",
     "iopub.status.idle": "2021-06-07T06:24:32.667287Z",
     "shell.execute_reply": "2021-06-07T06:24:32.666436Z",
     "shell.execute_reply.started": "2021-06-07T06:24:32.633264Z"
    },
    "id": "Cf3ufj9MOm0m"
   }
  },
  {
   "cell_type": "code",
   "execution_count": null,
   "source": [
    "from pycaret.classification import create_model\r\n",
    "\r\n",
    "gbc = create_model(\"gbc\")"
   ],
   "outputs": [],
   "metadata": {}
  },
  {
   "cell_type": "code",
   "execution_count": null,
   "source": [
    "print(gbc)"
   ],
   "outputs": [],
   "metadata": {}
  },
  {
   "cell_type": "code",
   "execution_count": null,
   "source": [
    "from pycaret.classification import tune_model\r\n",
    "\r\n",
    "tuned_gbc = tune_model(gbc)"
   ],
   "outputs": [],
   "metadata": {}
  },
  {
   "cell_type": "code",
   "execution_count": null,
   "source": [
    "print(tuned_gbc)"
   ],
   "outputs": [],
   "metadata": {}
  },
  {
   "cell_type": "code",
   "execution_count": null,
   "source": [
    "from pycaret.classification import plot_model\r\n",
    "\r\n",
    "plot_model(tuned_gbc, plot=\"feature\")"
   ],
   "outputs": [],
   "metadata": {}
  },
  {
   "cell_type": "code",
   "execution_count": null,
   "source": [
    "from pycaret.classification import finalize_model\r\n",
    "\r\n",
    "final_gbc = finalize_model(tuned_gbc)\r\n",
    "print(final_gbc)"
   ],
   "outputs": [],
   "metadata": {}
  },
  {
   "cell_type": "code",
   "execution_count": null,
   "source": [
    "from pycaret.classification import predict_model\r\n",
    "\r\n",
    "test_pred = predict_model(final_gbc, data=test_data)\r\n",
    "test_pred.head()"
   ],
   "outputs": [],
   "metadata": {}
  },
  {
   "cell_type": "code",
   "execution_count": null,
   "source": [
    "subm_data = test_pred[[\"PassengerId\", \"Label\"]]\r\n",
    "subm_data = subm_data.rename(columns={\"Label\" : \"Survived\"})\r\n",
    "\r\n",
    "subm_data.to_csv(\"submission_titanic.csv\", index=False)\r\n",
    "\r\n",
    "subm_data"
   ],
   "outputs": [],
   "metadata": {}
  }
 ],
 "metadata": {
  "colab": {
   "collapsed_sections": [],
   "include_colab_link": true,
   "name": "01_automl_titanic.ipynb",
   "provenance": []
  },
  "kernelspec": {
   "display_name": "Python 3",
   "language": "python",
   "name": "python3"
  },
  "language_info": {
   "codemirror_mode": {
    "name": "ipython",
    "version": 3
   },
   "file_extension": ".py",
   "mimetype": "text/x-python",
   "name": "python",
   "nbconvert_exporter": "python",
   "pygments_lexer": "ipython3",
   "version": "3.8.5"
  }
 },
 "nbformat": 4,
 "nbformat_minor": 4
}